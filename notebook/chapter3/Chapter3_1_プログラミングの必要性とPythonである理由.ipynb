{
  "nbformat": 4,
  "nbformat_minor": 0,
  "metadata": {
    "colab": {
      "provenance": [],
      "authorship_tag": "ABX9TyMECbshcQ96ZmrdmaAHMu90",
      "include_colab_link": true
    },
    "kernelspec": {
      "name": "python3",
      "display_name": "Python 3"
    },
    "language_info": {
      "name": "python"
    }
  },
  "cells": [
    {
      "cell_type": "markdown",
      "metadata": {
        "id": "view-in-github",
        "colab_type": "text"
      },
      "source": [
        "<a href=\"https://colab.research.google.com/github/mazarimono/python-data-seminar/blob/main/notebook/chapter3/Chapter3_1_プログラミングの必要性とPythonである理由.ipynb" target=\"_parent\"><img src=\"https://colab.research.google.com/assets/colab-badge.svg\" alt=\"Open In Colab\"/></a>"
      ]
    },
    {
      "cell_type": "code",
      "execution_count": 3,
      "metadata": {
        "colab": {
          "base_uri": "https://localhost:8080/"
        },
        "id": "SHQOZjfQLW3l",
        "outputId": "3f5a66ed-0763-43c5-895a-86e00fb32115"
      },
      "outputs": [
        {
          "output_type": "stream",
          "name": "stdout",
          "text": [
            "0\n",
            "1\n",
            "2\n",
            "3\n",
            "4\n",
            "5\n",
            "6\n",
            "7\n",
            "8\n",
            "9\n",
            "10\n"
          ]
        }
      ],
      "source": [
        "# コード3-1\n",
        "# インデントによりコードブロックが一目でわかる例\n",
        "# 関数を作成して実行\n",
        "\n",
        "def print_0_to_10(n: int=11):\n",
        "    for i in range(n):\n",
        "        print(i)\n",
        "\n",
        "print_0_to_10()"
      ]
    },
    {
      "cell_type": "code",
      "source": [],
      "metadata": {
        "id": "Nm_TckJ8LjPD"
      },
      "execution_count": null,
      "outputs": []
    }
  ]
}
